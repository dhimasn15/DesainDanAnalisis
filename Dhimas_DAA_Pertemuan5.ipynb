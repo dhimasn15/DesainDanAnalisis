{
  "nbformat": 4,
  "nbformat_minor": 0,
  "metadata": {
    "colab": {
      "provenance": [],
      "authorship_tag": "ABX9TyN+J+jPrk6+cgL5FhEc3S7Q",
      "include_colab_link": true
    },
    "kernelspec": {
      "name": "python3",
      "display_name": "Python 3"
    },
    "language_info": {
      "name": "python"
    }
  },
  "cells": [
    {
      "cell_type": "markdown",
      "metadata": {
        "id": "view-in-github",
        "colab_type": "text"
      },
      "source": [
        "<a href=\"https://colab.research.google.com/github/dhimasn15/DesainDanAnalisis/blob/main/Dhimas_DAA_Pertemuan5.ipynb\" target=\"_parent\"><img src=\"https://colab.research.google.com/assets/colab-badge.svg\" alt=\"Open In Colab\"/></a>"
      ]
    },
    {
      "cell_type": "markdown",
      "source": [
        "**-slide14-15- Contoh Kasus 1**"
      ],
      "metadata": {
        "id": "D8Nly3CEXgCI"
      }
    },
    {
      "cell_type": "code",
      "source": [
        "# A Divide and Conquer based program\n",
        "# for maximum subarray sum problem\n",
        "\n",
        "# Find the maximum possible sum in\n",
        "# arr[] such that arr[m] is part of it\n",
        "\n",
        "def maxCrossingSum(arr, l, m, h):\n",
        "    # Include elements on left of mid.\n",
        "    sm = 0\n",
        "    left_sum = -10000\n",
        "\n",
        "    for i in range(m, l-1, -1):\n",
        "        sm = sm + arr[i]\n",
        "\n",
        "        if (sm > left_sum):\n",
        "            left_sum = sm\n",
        "\n",
        "    # Include elements on right of mid\n",
        "    sm = 0\n",
        "    right_sum = -1000\n",
        "    for i in range(m, h + 1):\n",
        "        sm = sm + arr[i]\n",
        "\n",
        "        if (sm > right_sum):\n",
        "            right_sum = sm\n",
        "\n",
        "    # Return sum of elements on left and right of mid\n",
        "    # returning only left_sum + right_sum will fail for [-2, 1]\n",
        "    return max(left_sum + right_sum - arr[m], left_sum, right_sum)\n",
        "# Returns sum of maximum sum subarray in aa[l..h]\n",
        "def maxSubArraySum(arr, l, h):\n",
        "    # Invalid Range: low is greater than high\n",
        "    if (l > h):\n",
        "        return -10000\n",
        "    # Base Case: Only one element\n",
        "    if (l == h):\n",
        "        return arr[l]\n",
        "\n",
        "    # Find middle point\n",
        "    m = (l + h) // 2\n",
        "\n",
        "    # Return maximum of following three possible cases\n",
        "    # a) Maximum subarray sum in left half\n",
        "    # b) Maximum subarray sum in right half\n",
        "    # c) Maximum subarray sum such that the\n",
        "    #    subarray crosses the midpoint\n",
        "    return max(maxSubArraySum(arr, l, m-1),\n",
        "               maxSubArraySum(arr, m+1, h),\n",
        "               maxCrossingSum(arr, l, m, h))\n",
        "\n",
        "# Driver Code\n",
        "arr = [4, 12, 23, 9, 21, 1, 35, 2, 24]\n",
        "n = len(arr)\n",
        "\n",
        "max_sum = maxSubArraySum(arr, 0, n-1)\n",
        "print(\"Maximum contiguous sum is \", max_sum)\n",
        "\n",
        "# Second example\n",
        "arr = [12, 51, 23, 84, 5, 9]\n",
        "n = len(arr)\n",
        "\n",
        "max_sum = maxSubArraySum(arr, 0, n-1)\n",
        "print(\"Maximum contiguous sum is \", max_sum)"
      ],
      "metadata": {
        "colab": {
          "base_uri": "https://localhost:8080/"
        },
        "id": "HdyXM5EOUXhb",
        "outputId": "00874f3d-16c9-4f6c-a844-242f412cd723"
      },
      "execution_count": 12,
      "outputs": [
        {
          "output_type": "stream",
          "name": "stdout",
          "text": [
            "Maximum contiguous sum is  131\n",
            "Maximum contiguous sum is  184\n"
          ]
        }
      ]
    },
    {
      "cell_type": "markdown",
      "source": [
        "**-slide21- MinMaks**"
      ],
      "metadata": {
        "id": "9RyY0x9LqLj1"
      }
    },
    {
      "cell_type": "code",
      "source": [
        "def divideAndConquer(arr, ind, lend):\n",
        "    maximum=-1;\n",
        "\n",
        "    if(ind >= lend -2):\n",
        "        if(arr[ind] > arr[ind + 1]):\n",
        "            return arr[ind]\n",
        "        else:\n",
        "        return arr[ind]\n",
        "\n",
        "        maximum = divideAndConquer(arr, ind + 1, lend)\n",
        "\n",
        "    if(arr[ind] > maximum):\n",
        "        return arr[ind]\n",
        "    else:\n",
        "        return maximum"
      ],
      "metadata": {
        "id": "4owSbmy7qTVm"
      },
      "execution_count": null,
      "outputs": []
    },
    {
      "cell_type": "code",
      "source": [],
      "metadata": {
        "id": "mwjoXJdoq12I"
      },
      "execution_count": null,
      "outputs": []
    },
    {
      "cell_type": "markdown",
      "source": [
        "**-slide26- MERGE SORT**"
      ],
      "metadata": {
        "id": "ZRdRZFUvpFbq"
      }
    },
    {
      "cell_type": "code",
      "source": [
        "def mergeSort(arr):\n",
        "    if len(arr) > 1:\n",
        "        # Find the middle of the array\n",
        "        r = len(arr) // 2\n",
        "        # Split the array into two halves\n",
        "        L = arr[:r]\n",
        "        M = arr[r:]\n",
        "\n",
        "        # Recursively sort both halves\n",
        "        mergeSort(L)\n",
        "        mergeSort(M)\n",
        "\n",
        "        # Initialize pointers for L, M, and the main array\n",
        "        i = j = k = 0\n",
        "\n",
        "        # Merge the arrays L and M back into arr\n",
        "        while i < len(L) and j < len(M):\n",
        "            if L[i] < M[j]:\n",
        "                arr[k] = L[i]\n",
        "                i += 1\n",
        "            else:\n",
        "                arr[k] = M[j]\n",
        "                j += 1\n",
        "            k += 1\n",
        "\n",
        "        # If there are remaining elements in L, add them to arr\n",
        "        while i < len(L):\n",
        "            arr[k] = L[i]\n",
        "            i += 1\n",
        "            k += 1\n",
        "\n",
        "        # If there are remaining elements in M, add them to arr\n",
        "        while j < len(M):\n",
        "            arr[k] = M[j]\n",
        "            j += 1\n",
        "            k += 1\n",
        "\n",
        "# Function to print the array\n",
        "def printList(arr):\n",
        "    for i in range(len(arr)):\n",
        "        print(arr[i], end=\" \")\n",
        "    print()\n",
        "\n",
        "# Test the mergeSort function\n",
        "array = [8, 3, 2, 9, 7, 1, 5, 4, 6]\n",
        "mergeSort(array)\n",
        "print(\"Sorted array is:\")\n",
        "printList(array)\n"
      ],
      "metadata": {
        "colab": {
          "base_uri": "https://localhost:8080/"
        },
        "id": "IXs28CB5pKlj",
        "outputId": "6ae126e6-609d-4a33-feed-8f440ce89fb1"
      },
      "execution_count": 43,
      "outputs": [
        {
          "output_type": "stream",
          "name": "stdout",
          "text": [
            "Sorted array is:\n",
            "1 2 3 4 5 6 7 8 9 \n"
          ]
        }
      ]
    },
    {
      "cell_type": "markdown",
      "source": [
        "**-slide28- INSERTION SORT**"
      ],
      "metadata": {
        "id": "Ch2HgoAEo0jl"
      }
    },
    {
      "cell_type": "code",
      "source": [
        "def insertion_sort(arr):\n",
        "    for i in range(1, len(arr)):\n",
        "        key = arr[i]\n",
        "        j = i - 1\n",
        "        # Move elements of arr[0..i-1], that are greater than key, to one position ahead\n",
        "        # of their current position\n",
        "        while j >= 0 and key < arr[j]:\n",
        "            arr[j + 1] = arr[j]\n",
        "            j -= 1\n",
        "        arr[j + 1] = key\n",
        "    return arr  # Move the return statement outside the loop\n",
        "\n",
        "# Example usage\n",
        "arr = [4, 12, 23, 9, 21, 1, 5, 2]\n",
        "print(\"Sorted array is:\", insertion_sort(arr))\n"
      ],
      "metadata": {
        "colab": {
          "base_uri": "https://localhost:8080/"
        },
        "id": "lyI-HHZcoMfJ",
        "outputId": "a0c4c4b4-8712-4bea-ad23-8071d63b0f64"
      },
      "execution_count": 39,
      "outputs": [
        {
          "output_type": "stream",
          "name": "stdout",
          "text": [
            "Sorted array is: [1, 2, 4, 5, 9, 12, 21, 23]\n"
          ]
        }
      ]
    },
    {
      "cell_type": "markdown",
      "source": [
        "**-slide38-  Quick Sort**"
      ],
      "metadata": {
        "id": "Cvq7jCCaXml2"
      }
    },
    {
      "cell_type": "code",
      "source": [
        "# Function to find the partition position\n",
        "def partition(array, low, high):\n",
        "    # choose the rightmost element as pivot\n",
        "    pivot = array[high]\n",
        "\n",
        "    # pointer for greater element\n",
        "    i = low - 1\n",
        "\n",
        "    # traverse through all elements\n",
        "    # compare each element with pivot\n",
        "    for j in range(low, high):\n",
        "        if array[j] <= pivot:\n",
        "            # If element smaller than pivot is found\n",
        "            # swap it with the greater element pointed by i\n",
        "            i = i + 1\n",
        "            # Swapping element at i with element at j\n",
        "            (array[i], array[j]) = (array[j], array[i])\n",
        "\n",
        "    # Swap the pivot element with the greater element specified by i\n",
        "    (array[i + 1], array[high]) = (array[high], array[i + 1])\n",
        "\n",
        "    # Return the position from where partition is done\n",
        "    return i + 1  # Corrected this to return the right index\n",
        "\n",
        "\n",
        "# Function to perform quicksort\n",
        "def quick_sort(array, low, high):\n",
        "    if low < high:\n",
        "        # Find pivot element such that\n",
        "        # elements smaller than pivot are on the left\n",
        "        # elements greater than pivot are on the right\n",
        "        pi = partition(array, low, high)\n",
        "\n",
        "        # Recursive call on the left of pivot\n",
        "        quick_sort(array, low, pi - 1)\n",
        "\n",
        "        # Recursive call on the right of pivot\n",
        "        quick_sort(array, pi + 1, high)\n",
        "\n",
        "\n",
        "# Main execution starts here\n",
        "data = [1, 7, 4, 1, 10, 9, -2]\n",
        "print(\"Unsorted Array\")\n",
        "print(data)\n",
        "\n",
        "# Call quicksort\n",
        "size = len(data)\n",
        "quick_sort(data, 0, size - 1)\n",
        "\n",
        "print('Sorted Array in Ascending Order:')\n",
        "print(data)\n"
      ],
      "metadata": {
        "colab": {
          "base_uri": "https://localhost:8080/"
        },
        "id": "WFZOE0bpYGK8",
        "outputId": "a5e9a0af-0cde-41ce-f697-19a85ebd7cfc"
      },
      "execution_count": 20,
      "outputs": [
        {
          "output_type": "stream",
          "name": "stdout",
          "text": [
            "Unsorted Array\n",
            "[1, 7, 4, 1, 10, 9, -2]\n",
            "Sorted Array in Ascending Order:\n",
            "[-2, 1, 1, 4, 7, 9, 10]\n"
          ]
        }
      ]
    },
    {
      "cell_type": "markdown",
      "source": [
        "**-slide39-40- IMPLEMENTASI ALGORITMA(invers dalam suatu array)**"
      ],
      "metadata": {
        "id": "kfsNqSz2ZLST"
      }
    },
    {
      "cell_type": "code",
      "source": [
        " # Hitung Inversi\n",
        "def countInversion(arr):\n",
        "    result=0\n",
        "    for i in range(len(arr)):\n",
        "      for j in range(i+1,len(arr)):\n",
        "        if arr[i]>arr[j]:\n",
        "          result+=1\n",
        "        return result\n",
        "\n",
        "\n"
      ],
      "metadata": {
        "id": "ukFaRAKiZOPy"
      },
      "execution_count": 29,
      "outputs": []
    },
    {
      "cell_type": "code",
      "source": [
        "arr=[21, 70, 36, 14, 25]"
      ],
      "metadata": {
        "id": "EOjLr4INZpOQ"
      },
      "execution_count": null,
      "outputs": []
    },
    {
      "cell_type": "code",
      "source": [
        "result=countInversion(arr)\n",
        "print(result)"
      ],
      "metadata": {
        "colab": {
          "base_uri": "https://localhost:8080/"
        },
        "id": "RHCTMKLdZqwS",
        "outputId": "27b32b78-d357-438f-df5b-7e6c9c509182"
      },
      "execution_count": 32,
      "outputs": [
        {
          "output_type": "stream",
          "name": "stdout",
          "text": [
            "0\n"
          ]
        }
      ]
    },
    {
      "cell_type": "code",
      "source": [
        "def countInversion(arr):\n",
        "    icount=0\n",
        "    if len(arr)<=1:\n",
        "        return icount\n",
        "\n",
        "    mid=len(arr)//2\n",
        "    left=arr[:mid]\n",
        "    right=arr[mid:]\n",
        "    icount+=countInversion(left)\n",
        "    icount+=countInversion(right)\n",
        "    i=j=k=0\n",
        "\n",
        "    while i<len(left) and j<len(right):\n",
        "        if left[i]<right[j]:\n",
        "            arr[k]=left[i]\n",
        "            i+=1\n",
        "        else:\n",
        "            arr[k]=right[j]\n",
        "            icount+=(mid-i)\n",
        "            j+=1\n",
        "        k+=1\n",
        "\n",
        "    while i<len(left):\n",
        "        arr[k]=left[i]\n",
        "        i+=1\n",
        "        k+=1\n",
        "    while j<len(right):\n",
        "        arr[k]=right[j]\n",
        "        j+=1\n",
        "        k+=1\n",
        "\n",
        "    return icount"
      ],
      "metadata": {
        "id": "f0Rg039XnahG"
      },
      "execution_count": 30,
      "outputs": []
    },
    {
      "cell_type": "code",
      "source": [
        "arr=[1, 20, 6, 4, 5]\n",
        "\n",
        "result = countInversion(arr)\n",
        "print(result)"
      ],
      "metadata": {
        "colab": {
          "base_uri": "https://localhost:8080/"
        },
        "id": "9Pf9_hCjnssl",
        "outputId": "1d22e6d4-c7db-42c4-e541-3a356026589c"
      },
      "execution_count": 31,
      "outputs": [
        {
          "output_type": "stream",
          "name": "stdout",
          "text": [
            "5\n"
          ]
        }
      ]
    },
    {
      "cell_type": "markdown",
      "source": [
        "**-slide41-42- IMPLEMENTASI ALGORITMA(Maximum Subarray Sum)Mencari hasil penjumlahan terbesar dari suatu array yang isinya nilai negatif dan positif. Misal suatu array isinya {-2, -5, 6, -2, -3, 1, 5, -6}, maka penjumlahan terbesar disusun dari {6, -2, -3, 1, 5} = 7**"
      ],
      "metadata": {
        "id": "iKU0RWQAa7zo"
      }
    },
    {
      "cell_type": "code",
      "source": [
        "def maxSubSum(arr):\n",
        "  max_so_far=0\n",
        "  max_ending_here=0\n",
        "  for i in range(len(arr)):\n",
        "    max_ending_here+=arr[i]\n",
        "    if max_ending_here>max_so_far:\n",
        "      max_so_far=max_ending_here\n",
        "    if max_ending_here<0:\n",
        "      max_ending_here=0\n",
        "  return max_so_far"
      ],
      "metadata": {
        "id": "XyMSnlB2m4bg"
      },
      "execution_count": 28,
      "outputs": []
    },
    {
      "cell_type": "code",
      "source": [
        "arr=[-2, -5, 6, -2, -3, 1, 5, -6]\n",
        "result=maxSubSum(arr)\n",
        "print(result)"
      ],
      "metadata": {
        "colab": {
          "base_uri": "https://localhost:8080/"
        },
        "id": "jk5kqqxCnA40",
        "outputId": "853d55b1-4727-43ac-d77a-0ed25187dc6c"
      },
      "execution_count": 29,
      "outputs": [
        {
          "output_type": "stream",
          "name": "stdout",
          "text": [
            "7\n"
          ]
        }
      ]
    },
    {
      "cell_type": "code",
      "source": [
        "def maxCrossingSum(arr,low,mid,high):\n",
        "  result=0; leftSum=float('-infinity')\n",
        "  for i in range(mid,low-1,-1):\n",
        "    result+=arr[i]\n",
        "    if result>leftSum:\n",
        "      leftSum=result\n",
        "      result=0; rightSum=float('-infinity')\n",
        "  for i in range(mid+1,high+1):\n",
        "    result+=arr[i]\n",
        "    if result>rightSum:\n",
        "      rightSum=result\n",
        "    return leftSum+rightSum\n",
        "\n",
        "def maxSum(arr,low,high):\n",
        "  if low==high:\n",
        "    return arr[low]\n",
        "  mid=(low+high)//2\n",
        "  return max(maxSum(arr,low,mid),maxSum(arr,mid+1,high),maxCrossingSum(arr,low,mid,high))\n",
        ""
      ],
      "metadata": {
        "id": "skwsU4Aea-1M"
      },
      "execution_count": 35,
      "outputs": []
    },
    {
      "cell_type": "code",
      "source": [
        "arr=[-2, -5, 6, -2, -3, 1, 5, -6]\n",
        "result=maxSum(arr,0,len(arr)-1)\n",
        "print(result)"
      ],
      "metadata": {
        "colab": {
          "base_uri": "https://localhost:8080/"
        },
        "id": "DxKOiSXZbP8D",
        "outputId": "42495973-a3f4-4706-ff61-02ac27bcf188"
      },
      "execution_count": 36,
      "outputs": [
        {
          "output_type": "stream",
          "name": "stdout",
          "text": [
            "6\n"
          ]
        }
      ]
    },
    {
      "cell_type": "markdown",
      "source": [
        "**-slide43- IMPLEMENTASI ALGORITMA(Longest Common Prefix)\n",
        "Mencari potongan suku kata (prefix) yang sama dan terpanjang**"
      ],
      "metadata": {
        "id": "--q0PbqBbYyw"
      }
    },
    {
      "cell_type": "code",
      "source": [
        "def longestCommonPrefix(a):\n",
        "  size=len(a)\n",
        "  if (size==0):\n",
        "    return\"\"\n",
        "  if (size==1):\n",
        "    return a[0]\n",
        "  a.sort()\n",
        "  end=min(len(a[0]),len(a[size-1]))\n",
        "  i=0\n",
        "  while (i<end and a[0][i]==a[size-1][i]):\n",
        "    i+=1\n",
        "  pre=a[0][0:i]\n",
        "  return pre\n",
        "\n",
        ""
      ],
      "metadata": {
        "id": "IJzuZS1bbjpg"
      },
      "execution_count": 38,
      "outputs": []
    },
    {
      "cell_type": "code",
      "source": [
        "arr=[\"geeksforgeeks\", \"geeks\", \"geek\", \"geezer\"]\n",
        "result=longestCommonPrefix(arr)\n",
        "print(result)\n",
        ""
      ],
      "metadata": {
        "colab": {
          "base_uri": "https://localhost:8080/"
        },
        "id": "5iw2Vd_vb9i_",
        "outputId": "743bfa52-df56-4f27-d85c-c5fcd7307e97"
      },
      "execution_count": 39,
      "outputs": [
        {
          "output_type": "stream",
          "name": "stdout",
          "text": [
            "gee\n"
          ]
        }
      ]
    },
    {
      "cell_type": "code",
      "source": [
        "arr=[\"apple\", \"ape\", \"april\"]\n",
        "result=longestCommonPrefix(arr)\n",
        "print(result)"
      ],
      "metadata": {
        "colab": {
          "base_uri": "https://localhost:8080/"
        },
        "id": "n53Ag74_cBMF",
        "outputId": "e0d10647-d9a2-40f7-c436-ab0d818c9e18"
      },
      "execution_count": 40,
      "outputs": [
        {
          "output_type": "stream",
          "name": "stdout",
          "text": [
            "ap\n"
          ]
        }
      ]
    },
    {
      "cell_type": "markdown",
      "source": [
        "**-slide44- IMPLEMENTASI ALGORITMA(Median dua array urut sama ukuran)\n",
        "Mencari nilai tengah dari dua array yang berurutan nilainya, dan ukurannya sama**"
      ],
      "metadata": {
        "id": "wP1cVIU1cLl9"
      }
    },
    {
      "cell_type": "code",
      "source": [
        "def medianaray(arr1,arr2,n):\n",
        "  m1=-1\n",
        "  m2=-1\n",
        "  count=0\n",
        "  i=j=0\n",
        "  while count<n+1:\n",
        "    count+=1\n",
        "    if i==n:\n",
        "      m1=m2\n",
        "      m2=arr2[0]\n",
        "      break\n",
        "    if j==n:\n",
        "      m1=m2\n",
        "      m2=arr1[0]\n",
        "      break\n",
        "    if arr1[i]<arr2[j]:\n",
        "      m1=m2\n",
        "      m2=arr1[i]\n",
        "      i+=1\n",
        "    else:\n",
        "      m1=m2\n",
        "      m2=arr2[j]\n",
        "      j+=1\n",
        "  return (m1+m2)//2"
      ],
      "metadata": {
        "id": "5bC-O5sdcZjQ"
      },
      "execution_count": 42,
      "outputs": []
    },
    {
      "cell_type": "code",
      "source": [
        "arr1=[1, 12, 15, 26, 38]\n",
        "arr2=[2, 13, 17, 30, 45]\n",
        "print(medianaray(arr1,arr2,len(arr1)))"
      ],
      "metadata": {
        "colab": {
          "base_uri": "https://localhost:8080/"
        },
        "id": "oQ3Hbh9lcmXb",
        "outputId": "0e155b13-28c3-4529-ff96-1e90541e3cb6"
      },
      "execution_count": 43,
      "outputs": [
        {
          "output_type": "stream",
          "name": "stdout",
          "text": [
            "16\n"
          ]
        }
      ]
    },
    {
      "cell_type": "markdown",
      "source": [
        "**-slide47- IMPLEMENTASI ALGORITMA(median dua array urut berbeda ukuran) Mencari nilai tengah array yang berurutan, namun ukurannya berbeda**"
      ],
      "metadata": {
        "id": "l-r0RnbGc_-V"
      }
    },
    {
      "cell_type": "code",
      "source": [
        "def Solution(arr):\n",
        "  n=len(arr)\n",
        "  if n%2 == 0:\n",
        "    z=n//2\n",
        "    x=arr[z-1]\n",
        "    y=arr[z]\n",
        "    ans=(e+q)/2\n",
        "  else:\n",
        "    z=n//2\n",
        "    ans=arr[z]\n",
        "  return ans"
      ],
      "metadata": {
        "id": "kSnqnjj5dVRG"
      },
      "execution_count": 45,
      "outputs": []
    },
    {
      "cell_type": "code",
      "source": [
        "arr1=[-5, 3, 6, 12, 15]\n",
        "arr2=[-12, -10, -6, -3, 4, 10]\n",
        "arr3=arr1+arr2\n",
        "arr3.sort()\n",
        "print(\"Median= \", Solution(arr3))"
      ],
      "metadata": {
        "colab": {
          "base_uri": "https://localhost:8080/"
        },
        "id": "76zOvPHBd1ua",
        "outputId": "e07e4ee9-301a-4154-ee18-69ea294df6ce"
      },
      "execution_count": 46,
      "outputs": [
        {
          "output_type": "stream",
          "name": "stdout",
          "text": [
            "Median=  3\n"
          ]
        }
      ]
    },
    {
      "cell_type": "markdown",
      "source": [
        "**-slide48- IMPLEMENTASI ALGORITMA(mencari elemen terbesar dari array dan lebih kecil dari angka)**"
      ],
      "metadata": {
        "id": "IjfrteU7gbs9"
      }
    },
    {
      "cell_type": "code",
      "source": [
        "def floorSorted(arr,low,high,x): #Removed mid from function definition\n",
        "  if low>high:\n",
        "    return -1\n",
        "  if arr[low]>x:\n",
        "    return -1\n",
        "  if arr[high]<=x:\n",
        "    return arr[high]\n",
        "  mid=(low+high)//2 # Moved mid inside the function\n",
        "  if arr[mid]==x:\n",
        "    return arr[mid]\n",
        "  if mid>0 and x>=arr[mid-1] and arr[mid]>x:\n",
        "    return arr[mid-1]\n",
        "  if mid<high and x<arr[mid+1] and x>=arr[mid]:\n",
        "    return arr[mid]\n",
        "  if x>arr[mid]:\n",
        "      return floorSorted(arr,mid+1,high,x) #Removed mid from function call\n",
        "  else:\n",
        "    return floorSorted(arr,low,mid-1,x) #Removed mid from function call\n",
        "\n",
        "arr=[1,2,8,10,12,14,19]\n",
        "\n",
        "x=5\n",
        "\n",
        "print(floorSorted(arr,0,len(arr)-1,x)) #Added x to function call"
      ],
      "metadata": {
        "colab": {
          "base_uri": "https://localhost:8080/"
        },
        "id": "5JyI7_AKgmke",
        "outputId": "ad390d18-3356-49d3-c8ff-20fc0198805b"
      },
      "execution_count": 21,
      "outputs": [
        {
          "output_type": "stream",
          "name": "stdout",
          "text": [
            "2\n"
          ]
        }
      ]
    },
    {
      "cell_type": "markdown",
      "source": [
        "**-slide49-50- MPLEMENTASI ALGORITMA(Nilai Terdekat)\n",
        "Mencari nilai terdekat suatu angka dalam suatu array**"
      ],
      "metadata": {
        "id": "UyCCQOUqjJxo"
      }
    },
    {
      "cell_type": "code",
      "source": [
        "def closestNumber(arr, low, high, x):\n",
        "    # Base case: If the search space is exhausted\n",
        "    if low > high:\n",
        "        return None\n",
        "\n",
        "    # If x is greater than or equal to the highest number in the array\n",
        "    if arr[high] <= x:\n",
        "        return arr[high]\n",
        "\n",
        "    # If x is less than or equal to the lowest number in the array\n",
        "    if arr[low] >= x:\n",
        "        return arr[low]\n",
        "\n",
        "    # Calculate the middle index\n",
        "    mid = (low + high) // 2\n",
        "\n",
        "    # If the middle element is exactly equal to x\n",
        "    if arr[mid] == x:\n",
        "        return arr[mid]\n",
        "\n",
        "    # Compute the absolute difference between x and the mid element\n",
        "    abs_mid = abs(arr[mid] - x)\n",
        "\n",
        "    # If there is a left element, compare its absolute difference\n",
        "    if mid > 0:\n",
        "        abs_left = abs(arr[mid - 1] - x)\n",
        "        if abs_left < abs_mid:\n",
        "            return closestNumber(arr, low, mid - 1, x)\n",
        "\n",
        "    # If there is a right element, compare its absolute difference\n",
        "    if mid < high:\n",
        "        abs_right = abs(arr[mid + 1] - x)\n",
        "        if abs_right < abs_mid:\n",
        "            return closestNumber(arr, mid + 1, high, x)\n",
        "\n",
        "    # If the current mid is the closest\n",
        "    return arr[mid]\n",
        "\n",
        "\n",
        "# Example usage\n",
        "arr = [2, 5, 6, 7, 8, 8, 9]\n",
        "x = 9\n",
        "print(closestNumber(arr, 0, len(arr) - 1, x))\n"
      ],
      "metadata": {
        "colab": {
          "base_uri": "https://localhost:8080/"
        },
        "id": "LHOnXDm9jZ4x",
        "outputId": "c6fb0c6d-c338-4d05-d020-26f8e4756094"
      },
      "execution_count": 23,
      "outputs": [
        {
          "output_type": "stream",
          "name": "stdout",
          "text": [
            "9\n"
          ]
        }
      ]
    },
    {
      "cell_type": "code",
      "source": [
        "def find_closest(lst, k):\n",
        "    closest_num = lst[0]\n",
        "    for num in lst:\n",
        "        if abs(num - k) < abs(closest_num - k):\n",
        "            closest_num = num\n",
        "        if num > k:\n",
        "            break\n",
        "    return closest_num\n",
        "\n",
        "# Example usage\n",
        "lst = [2, 5, 6, 7, 8, 8, 9]\n",
        "k = 9\n",
        "print(find_closest(lst, k))"
      ],
      "metadata": {
        "colab": {
          "base_uri": "https://localhost:8080/"
        },
        "id": "c4bt7HRWjZzB",
        "outputId": "d84d96d7-8e60-4588-e186-57b8d6e737a1"
      },
      "execution_count": 24,
      "outputs": [
        {
          "output_type": "stream",
          "name": "stdout",
          "text": [
            "9\n"
          ]
        }
      ]
    },
    {
      "cell_type": "markdown",
      "source": [
        "**-slide51- IMPLEMENTASI ALGORITMA(fixed point)Mencari nilai fixed point, yaitu suatu bilangan dalam array yang nilainya sama dengan urutannya dalam array. Array dimulai dari 0. Jika tidak ada yang sama, hasil akan bernilai -1.**"
      ],
      "metadata": {
        "id": "AZ9P0AnalI8B"
      }
    },
    {
      "cell_type": "code",
      "source": [
        "def fixedPoint(arr, low, high):\n",
        "    if low > high:\n",
        "        return -1\n",
        "    if arr[high] == high:\n",
        "        return arr[high]\n",
        "    if arr[low] == low:\n",
        "        return arr[low]\n",
        "    mid=(low+high)//2\n",
        "    if arr[mid]==mid:\n",
        "      return arr[mid]\n",
        "    if mid>arr[mid]:\n",
        "      return fixedPoint(arr,mid+1,high)\n",
        "    else:\n",
        "      return fixedPoint(arr,low,mid-1)"
      ],
      "metadata": {
        "id": "KclFtbtdlaxM"
      },
      "execution_count": 26,
      "outputs": []
    },
    {
      "cell_type": "code",
      "source": [
        "arr=[9,1,4,5,2]\n",
        "print(fixedPoint(arr,0,len(arr)-1))"
      ],
      "metadata": {
        "colab": {
          "base_uri": "https://localhost:8080/"
        },
        "id": "7V1lKTUdlQWE",
        "outputId": "1f0fa13e-231b-4f56-8a36-2415f46b94ca"
      },
      "execution_count": 27,
      "outputs": [
        {
          "output_type": "stream",
          "name": "stdout",
          "text": [
            "1\n"
          ]
        }
      ]
    }
  ]
}