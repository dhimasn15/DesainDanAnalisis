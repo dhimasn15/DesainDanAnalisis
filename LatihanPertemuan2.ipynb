{
  "nbformat": 4,
  "nbformat_minor": 0,
  "metadata": {
    "colab": {
      "provenance": [],
      "authorship_tag": "ABX9TyOhXVOzdhy2Sp7i17GrUl5R",
      "include_colab_link": true
    },
    "kernelspec": {
      "name": "python3",
      "display_name": "Python 3"
    },
    "language_info": {
      "name": "python"
    }
  },
  "cells": [
    {
      "cell_type": "markdown",
      "metadata": {
        "id": "view-in-github",
        "colab_type": "text"
      },
      "source": [
        "<a href=\"https://colab.research.google.com/github/dhimasn15/DesainDanAnalisis/blob/main/LatihanPertemuan2.ipynb\" target=\"_parent\"><img src=\"https://colab.research.google.com/assets/colab-badge.svg\" alt=\"Open In Colab\"/></a>"
      ]
    },
    {
      "cell_type": "code",
      "execution_count": 1,
      "metadata": {
        "colab": {
          "base_uri": "https://localhost:8080/"
        },
        "id": "1jbnMRt0lRSb",
        "outputId": "75e18e05-b1bc-47ae-c6ae-687ececd6ca6"
      },
      "outputs": [
        {
          "output_type": "stream",
          "name": "stdout",
          "text": [
            "90\n"
          ]
        }
      ],
      "source": [
        "import numpy as np\n",
        "\n",
        "# membuat array\n",
        "nilai_siswa = np.array([85, 55, 40, 90])\n",
        "\n",
        "# mengakses data pada array\n",
        "print(nilai_siswa[3])\n",
        "\n",
        "\n"
      ]
    },
    {
      "cell_type": "code",
      "source": [
        "print(\"hello, world\")\n",
        "print(\"Nama saya Dhimas nurhidayat\")\n",
        "print(\"Nim saya 2023071066\")"
      ],
      "metadata": {
        "colab": {
          "base_uri": "https://localhost:8080/"
        },
        "id": "84PktvIqldHW",
        "outputId": "39596571-707e-4510-9b6c-3ed3585a36d0"
      },
      "execution_count": 2,
      "outputs": [
        {
          "output_type": "stream",
          "name": "stdout",
          "text": [
            "hello, world\n",
            "Nama saya Dhimas nurhidayat\n",
            "Nim saya 2023071066\n"
          ]
        }
      ]
    },
    {
      "cell_type": "code",
      "source": [
        "if 5>2:\n",
        "  print(\"lima lebih besar dari dua\")"
      ],
      "metadata": {
        "colab": {
          "base_uri": "https://localhost:8080/"
        },
        "id": "WDpJfU0Ll3nS",
        "outputId": "c3f38edd-cf78-42c7-cfaa-29c3fa1ee4c5"
      },
      "execution_count": 3,
      "outputs": [
        {
          "output_type": "stream",
          "name": "stdout",
          "text": [
            "lima lebih besar dari dua\n"
          ]
        }
      ]
    },
    {
      "cell_type": "code",
      "source": [
        "x=5\n",
        "y=\"john\"\n",
        "print(x)\n",
        "print(y)"
      ],
      "metadata": {
        "colab": {
          "base_uri": "https://localhost:8080/"
        },
        "id": "0Wc02r5LmAPV",
        "outputId": "ee685fd7-9c86-4f41-99fb-75de598672f7"
      },
      "execution_count": 4,
      "outputs": [
        {
          "output_type": "stream",
          "name": "stdout",
          "text": [
            "5\n",
            "john\n"
          ]
        }
      ]
    },
    {
      "cell_type": "code",
      "source": [
        "x=4\n",
        "x=\"Sally\"\n",
        "print(x)"
      ],
      "metadata": {
        "colab": {
          "base_uri": "https://localhost:8080/"
        },
        "id": "NU2dCUJWmHP5",
        "outputId": "30740fb5-a39f-448f-d8bc-0f3b4a6442f4"
      },
      "execution_count": 5,
      "outputs": [
        {
          "output_type": "stream",
          "name": "stdout",
          "text": [
            "Sally\n"
          ]
        }
      ]
    }
  ]
}